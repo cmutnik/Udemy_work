{
 "cells": [
  {
   "cell_type": "markdown",
   "metadata": {},
   "source": [
    "<img src=\"./images/DLI_Header.png\" style=\"width: 400px;\">"
   ]
  },
  {
   "cell_type": "markdown",
   "metadata": {},
   "source": [
    "# Assessment"
   ]
  },
  {
   "cell_type": "markdown",
   "metadata": {},
   "source": [
    "Congratulations on going through today's course! Hopefully, you've learned some valuable skills along the way and had fun doing it. Now it's time to put those skills to the test. In this assessment, you will train a new model that is able to recognize fresh and rotten fruit. You will need to get the model to a validation accuracy of `92%` in order to pass the assessment, though we challenge you to do even better if you can. You will have the use the skills that you learned in the previous exercises. Specifically, we suggest using some combination of transfer learning, data augmentation, and fine tuning. Once you have trained the model to be at least 92% accurate on the validation dataset, save your model, and then assess its accuracy. Let's get started! "
   ]
  },
  {
   "cell_type": "markdown",
   "metadata": {},
   "source": [
    "## The Dataset"
   ]
  },
  {
   "cell_type": "markdown",
   "metadata": {},
   "source": [
    "In this exercise, you will train a model to recognize fresh and rotten fruits. The dataset comes from [Kaggle](https://www.kaggle.com/sriramr/fruits-fresh-and-rotten-for-classification), a great place to go if you're interested in starting a project after this class. The dataset structure is in the `data/fruits` folder. There are 6 categories of fruits: fresh apples, fresh oranges, fresh bananas, rotten apples, rotten oranges, and rotten bananas. This will mean that your model will require an output layer of 6 neurons to do the categorization successfully. You'll also need to compile the model with `categorical_crossentropy`, as we have more than two categories."
   ]
  },
  {
   "cell_type": "markdown",
   "metadata": {},
   "source": [
    "<img src=\"./images/fruits.png\" style=\"width: 600px;\">"
   ]
  },
  {
   "cell_type": "markdown",
   "metadata": {},
   "source": [
    "## Load ImageNet Base Model"
   ]
  },
  {
   "cell_type": "markdown",
   "metadata": {},
   "source": [
    "We encourage you to start with a model pretrained on ImageNet. Load the model with the correct weights, set an input shape, and choose to remove the last layers of the model. Remember that images have three dimensions: a height, and width, and a number of channels. Because these pictures are in color, there will be three channels for red, green, and blue. We've filled in the input shape for you. This cannot be changed or the assessment will fail. If you need a reference for setting up the pretrained model, please take a look at [notebook 05b](05b_presidential_doggy_door.ipynb) where we implemented transfer learning."
   ]
  },
  {
   "cell_type": "code",
   "execution_count": 1,
   "metadata": {},
   "outputs": [],
   "source": [
    "from tensorflow import keras\n",
    "\n",
    "base_model = keras.applications.VGG16(\n",
    "    weights='imagenet',\n",
    "    input_shape=(224, 224, 3),\n",
    "    include_top=False)"
   ]
  },
  {
   "cell_type": "markdown",
   "metadata": {},
   "source": [
    "## Freeze Base Model"
   ]
  },
  {
   "cell_type": "markdown",
   "metadata": {},
   "source": [
    "Next, we suggest freezing the base model, as done in [notebook 05b](05b_presidential_doggy_door.ipynb). This is done so that all the learning from the ImageNet dataset does not get destroyed in the initial training."
   ]
  },
  {
   "cell_type": "code",
   "execution_count": 2,
   "metadata": {},
   "outputs": [],
   "source": [
    "# Freeze base model\n",
    "base_model.trainable = False"
   ]
  },
  {
   "cell_type": "markdown",
   "metadata": {},
   "source": [
    "## Add Layers to Model"
   ]
  },
  {
   "cell_type": "markdown",
   "metadata": {},
   "source": [
    "Now it's time to add layers to the pretrained model. [Notebook 05b](05b_presidential_doggy_door.ipynb) can be used as a guide. Pay close attention to the last dense layer and make sure it has the correct number of neurons to classify the different types of fruit."
   ]
  },
  {
   "cell_type": "code",
   "execution_count": 3,
   "metadata": {},
   "outputs": [],
   "source": [
    "# Create inputs with correct shape\n",
    "inputs = keras.Input(shape=(224, 224, 3))\n",
    "\n",
    "x = base_model(inputs, training=False)\n",
    "\n",
    "# Add pooling layer or flatten layer\n",
    "#x = keras.layers.MaxPool2D()(x)\n",
    "x = keras.layers.GlobalAveragePooling2D()(x)\n",
    "\n",
    "# Add final dense layer\n",
    "outputs = keras.layers.Dense(1, activation = 'softmax')(x)\n",
    "\n",
    "# Combine inputs and outputs to create model\n",
    "model = keras.Model(inputs, outputs)"
   ]
  },
  {
   "cell_type": "code",
   "execution_count": 4,
   "metadata": {},
   "outputs": [
    {
     "name": "stdout",
     "output_type": "stream",
     "text": [
      "Model: \"model\"\n",
      "_________________________________________________________________\n",
      "Layer (type)                 Output Shape              Param #   \n",
      "=================================================================\n",
      "input_2 (InputLayer)         [(None, 224, 224, 3)]     0         \n",
      "_________________________________________________________________\n",
      "vgg16 (Model)                (None, 7, 7, 512)         14714688  \n",
      "_________________________________________________________________\n",
      "global_average_pooling2d (Gl (None, 512)               0         \n",
      "_________________________________________________________________\n",
      "dense (Dense)                (None, 1)                 513       \n",
      "=================================================================\n",
      "Total params: 14,715,201\n",
      "Trainable params: 513\n",
      "Non-trainable params: 14,714,688\n",
      "_________________________________________________________________\n"
     ]
    }
   ],
   "source": [
    "model.summary()"
   ]
  },
  {
   "cell_type": "markdown",
   "metadata": {},
   "source": [
    "## Compile Model"
   ]
  },
  {
   "cell_type": "markdown",
   "metadata": {},
   "source": [
    "Now it's time to compile the model with loss and metrics options. Remember that we're training on a number of different categories, rather than a binary classification problem."
   ]
  },
  {
   "cell_type": "code",
   "execution_count": 5,
   "metadata": {},
   "outputs": [],
   "source": [
    "model.compile(loss = keras.losses.CategoricalCrossentropy(), \n",
    "              metrics = [keras.metrics.CategoricalAccuracy()])"
   ]
  },
  {
   "cell_type": "markdown",
   "metadata": {},
   "source": [
    "## Augment the Data"
   ]
  },
  {
   "cell_type": "markdown",
   "metadata": {},
   "source": [
    "If you'd like, try to augment the data to improve the dataset. Feel free to look at [notebook 04a](04a_asl_augmentation.ipynb) and [notebook 05b](05b_presidential_doggy_door.ipynb) for augmentation examples. There is also documentation for the [Keras ImageDataGenerator class](https://keras.io/api/preprocessing/image/#imagedatagenerator-class). This step is optional, but it may be helpful to get to 92% accuracy."
   ]
  },
  {
   "cell_type": "code",
   "execution_count": 6,
   "metadata": {},
   "outputs": [],
   "source": [
    "from tensorflow.keras.preprocessing.image import ImageDataGenerator\n",
    "\n",
    "datagen = ImageDataGenerator(\n",
    "    #rotation_range=180,\n",
    "    #zoom_range=0.25,\n",
    "    #width_shift_range=0.2,\n",
    "    #height_shift_range=0.2,\n",
    "    horizontal_flip=True,\n",
    "    vertical_flip=True,\n",
    "    #samplewise_center=True\n",
    ")"
   ]
  },
  {
   "cell_type": "markdown",
   "metadata": {},
   "source": [
    "## Load Dataset"
   ]
  },
  {
   "cell_type": "markdown",
   "metadata": {},
   "source": [
    "Now it's time to load the train and validation datasets. Pick the right folders, as well as the right `target_size` of the images (it needs to match the height and width input of the model you've created). If you'd like a reference, you can check out [notebook 05b](05b_presidential_doggy_door.ipynb)."
   ]
  },
  {
   "cell_type": "code",
   "execution_count": 7,
   "metadata": {},
   "outputs": [
    {
     "name": "stdout",
     "output_type": "stream",
     "text": [
      "Found 1183 images belonging to 6 classes.\n",
      "Found 329 images belonging to 6 classes.\n"
     ]
    }
   ],
   "source": [
    "# load and iterate training dataset\n",
    "train_it = datagen.flow_from_directory('./data/fruits/train/', \n",
    "                                       target_size=(224, 224), \n",
    "                                       color_mode='rgb', \n",
    "                                       class_mode=\"categorical\",\n",
    "                                       #batch_size=8\n",
    "                                      )\n",
    "# load and iterate validation dataset\n",
    "valid_it = datagen.flow_from_directory('./data/fruits/valid/', \n",
    "                                      target_size=(224, 224), \n",
    "                                      color_mode='rgb', \n",
    "                                      class_mode=\"categorical\",\n",
    "                                      #batch_size=8\n",
    "                                      )"
   ]
  },
  {
   "cell_type": "markdown",
   "metadata": {},
   "source": [
    "## Train the Model"
   ]
  },
  {
   "cell_type": "markdown",
   "metadata": {},
   "source": [
    "Time to train the model! Pass the `train` and `valid` iterators into the `fit` function, as well as setting your desired number of epochs."
   ]
  },
  {
   "cell_type": "code",
   "execution_count": 10,
   "metadata": {},
   "outputs": [
    {
     "name": "stdout",
     "output_type": "stream",
     "text": [
      "Epoch 1/50\n",
      "37/36 [==============================] - 7s 198ms/step - loss: 0.0202 - categorical_accuracy: 0.9949 - val_loss: 0.1365 - val_categorical_accuracy: 0.9666\n",
      "Epoch 2/50\n",
      "37/36 [==============================] - 7s 195ms/step - loss: 0.0154 - categorical_accuracy: 0.9966 - val_loss: 0.1065 - val_categorical_accuracy: 0.9757\n",
      "Epoch 3/50\n",
      "37/36 [==============================] - 7s 197ms/step - loss: 0.0138 - categorical_accuracy: 0.9958 - val_loss: 0.1036 - val_categorical_accuracy: 0.9574\n",
      "Epoch 4/50\n",
      "37/36 [==============================] - 7s 200ms/step - loss: 0.0205 - categorical_accuracy: 0.9932 - val_loss: 0.0961 - val_categorical_accuracy: 0.9757\n",
      "Epoch 5/50\n",
      "37/36 [==============================] - 7s 202ms/step - loss: 0.0114 - categorical_accuracy: 0.9975 - val_loss: 0.0923 - val_categorical_accuracy: 0.9787\n",
      "Epoch 6/50\n",
      "37/36 [==============================] - 7s 200ms/step - loss: 0.0143 - categorical_accuracy: 0.9975 - val_loss: 0.1472 - val_categorical_accuracy: 0.9666\n",
      "Epoch 7/50\n",
      "37/36 [==============================] - 7s 200ms/step - loss: 0.0104 - categorical_accuracy: 0.9966 - val_loss: 0.1422 - val_categorical_accuracy: 0.9544\n",
      "Epoch 8/50\n",
      "37/36 [==============================] - 7s 201ms/step - loss: 0.0069 - categorical_accuracy: 0.9992 - val_loss: 0.1778 - val_categorical_accuracy: 0.9514\n",
      "Epoch 9/50\n",
      "37/36 [==============================] - 7s 198ms/step - loss: 0.0125 - categorical_accuracy: 0.9966 - val_loss: 0.0453 - val_categorical_accuracy: 0.9757\n",
      "Epoch 10/50\n",
      "37/36 [==============================] - 7s 201ms/step - loss: 0.0081 - categorical_accuracy: 0.9983 - val_loss: 0.1294 - val_categorical_accuracy: 0.9666\n",
      "Epoch 11/50\n",
      "37/36 [==============================] - 7s 199ms/step - loss: 0.0087 - categorical_accuracy: 1.0000 - val_loss: 0.0611 - val_categorical_accuracy: 0.9726\n",
      "Epoch 12/50\n",
      "37/36 [==============================] - 7s 201ms/step - loss: 0.0063 - categorical_accuracy: 1.0000 - val_loss: 0.1652 - val_categorical_accuracy: 0.9635\n",
      "Epoch 13/50\n",
      "37/36 [==============================] - 7s 197ms/step - loss: 0.0042 - categorical_accuracy: 1.0000 - val_loss: 0.0964 - val_categorical_accuracy: 0.9757\n",
      "Epoch 14/50\n",
      "37/36 [==============================] - 7s 200ms/step - loss: 0.0086 - categorical_accuracy: 0.9983 - val_loss: 0.1395 - val_categorical_accuracy: 0.9635\n",
      "Epoch 15/50\n",
      "37/36 [==============================] - 7s 200ms/step - loss: 0.0042 - categorical_accuracy: 1.0000 - val_loss: 0.0946 - val_categorical_accuracy: 0.9848\n",
      "Epoch 16/50\n",
      "37/36 [==============================] - 7s 199ms/step - loss: 0.0060 - categorical_accuracy: 0.9983 - val_loss: 0.1365 - val_categorical_accuracy: 0.9574\n",
      "Epoch 17/50\n",
      "37/36 [==============================] - 7s 200ms/step - loss: 0.0051 - categorical_accuracy: 1.0000 - val_loss: 0.1026 - val_categorical_accuracy: 0.9848\n",
      "Epoch 18/50\n",
      "37/36 [==============================] - 7s 197ms/step - loss: 0.0061 - categorical_accuracy: 0.9992 - val_loss: 0.1806 - val_categorical_accuracy: 0.9635\n",
      "Epoch 19/50\n",
      "37/36 [==============================] - 7s 199ms/step - loss: 0.0035 - categorical_accuracy: 1.0000 - val_loss: 0.1256 - val_categorical_accuracy: 0.9666\n",
      "Epoch 20/50\n",
      "37/36 [==============================] - 7s 199ms/step - loss: 0.0053 - categorical_accuracy: 0.9992 - val_loss: 0.0945 - val_categorical_accuracy: 0.9757\n",
      "Epoch 21/50\n",
      "37/36 [==============================] - 7s 200ms/step - loss: 0.0040 - categorical_accuracy: 0.9992 - val_loss: 0.1033 - val_categorical_accuracy: 0.9757\n",
      "Epoch 22/50\n",
      "37/36 [==============================] - 7s 201ms/step - loss: 0.0048 - categorical_accuracy: 1.0000 - val_loss: 0.1215 - val_categorical_accuracy: 0.9635\n",
      "Epoch 23/50\n",
      "37/36 [==============================] - 7s 200ms/step - loss: 0.0029 - categorical_accuracy: 1.0000 - val_loss: 0.0918 - val_categorical_accuracy: 0.9726\n",
      "Epoch 24/50\n",
      "37/36 [==============================] - 7s 197ms/step - loss: 0.0029 - categorical_accuracy: 1.0000 - val_loss: 0.1000 - val_categorical_accuracy: 0.9757\n",
      "Epoch 25/50\n",
      "37/36 [==============================] - 7s 200ms/step - loss: 0.0043 - categorical_accuracy: 0.9992 - val_loss: 0.1241 - val_categorical_accuracy: 0.9757\n",
      "Epoch 26/50\n",
      "37/36 [==============================] - 7s 199ms/step - loss: 0.0041 - categorical_accuracy: 1.0000 - val_loss: 0.1588 - val_categorical_accuracy: 0.9635\n",
      "Epoch 27/50\n",
      "37/36 [==============================] - 7s 202ms/step - loss: 0.0024 - categorical_accuracy: 1.0000 - val_loss: 0.1360 - val_categorical_accuracy: 0.9726\n",
      "Epoch 28/50\n",
      "37/36 [==============================] - 7s 199ms/step - loss: 0.0033 - categorical_accuracy: 1.0000 - val_loss: 0.0878 - val_categorical_accuracy: 0.9787\n",
      "Epoch 29/50\n",
      "37/36 [==============================] - 7s 202ms/step - loss: 0.0026 - categorical_accuracy: 1.0000 - val_loss: 0.1550 - val_categorical_accuracy: 0.9666\n",
      "Epoch 30/50\n",
      "37/36 [==============================] - 7s 199ms/step - loss: 0.0017 - categorical_accuracy: 1.0000 - val_loss: 0.1042 - val_categorical_accuracy: 0.9787\n",
      "Epoch 31/50\n",
      "37/36 [==============================] - 7s 198ms/step - loss: 0.0019 - categorical_accuracy: 1.0000 - val_loss: 0.1530 - val_categorical_accuracy: 0.9726\n",
      "Epoch 32/50\n",
      "37/36 [==============================] - 7s 199ms/step - loss: 0.0015 - categorical_accuracy: 1.0000 - val_loss: 0.1655 - val_categorical_accuracy: 0.9574\n",
      "Epoch 33/50\n",
      "37/36 [==============================] - 7s 200ms/step - loss: 0.0023 - categorical_accuracy: 1.0000 - val_loss: 0.1053 - val_categorical_accuracy: 0.9757\n",
      "Epoch 34/50\n",
      "37/36 [==============================] - 7s 199ms/step - loss: 0.0043 - categorical_accuracy: 0.9983 - val_loss: 0.1750 - val_categorical_accuracy: 0.9726\n",
      "Epoch 35/50\n",
      "37/36 [==============================] - 7s 196ms/step - loss: 0.0016 - categorical_accuracy: 1.0000 - val_loss: 0.1518 - val_categorical_accuracy: 0.9514\n",
      "Epoch 36/50\n",
      "37/36 [==============================] - 7s 197ms/step - loss: 0.0030 - categorical_accuracy: 0.9992 - val_loss: 0.1568 - val_categorical_accuracy: 0.9574\n",
      "Epoch 37/50\n",
      "37/36 [==============================] - 7s 199ms/step - loss: 0.0025 - categorical_accuracy: 0.9992 - val_loss: 0.1260 - val_categorical_accuracy: 0.9726\n",
      "Epoch 38/50\n",
      "37/36 [==============================] - 7s 198ms/step - loss: 0.0013 - categorical_accuracy: 1.0000 - val_loss: 0.1462 - val_categorical_accuracy: 0.9635\n",
      "Epoch 39/50\n",
      "37/36 [==============================] - 7s 199ms/step - loss: 0.0018 - categorical_accuracy: 1.0000 - val_loss: 0.1463 - val_categorical_accuracy: 0.9696\n",
      "Epoch 40/50\n",
      "37/36 [==============================] - 7s 198ms/step - loss: 0.0013 - categorical_accuracy: 1.0000 - val_loss: 0.1449 - val_categorical_accuracy: 0.9574\n",
      "Epoch 41/50\n",
      "37/36 [==============================] - 7s 197ms/step - loss: 0.0012 - categorical_accuracy: 1.0000 - val_loss: 0.1684 - val_categorical_accuracy: 0.9635\n",
      "Epoch 42/50\n",
      "37/36 [==============================] - 7s 198ms/step - loss: 8.7978e-04 - categorical_accuracy: 1.0000 - val_loss: 0.1002 - val_categorical_accuracy: 0.9635\n",
      "Epoch 43/50\n",
      "37/36 [==============================] - 7s 199ms/step - loss: 8.8497e-04 - categorical_accuracy: 1.0000 - val_loss: 0.1819 - val_categorical_accuracy: 0.9635\n",
      "Epoch 44/50\n",
      "37/36 [==============================] - 7s 198ms/step - loss: 8.9025e-04 - categorical_accuracy: 1.0000 - val_loss: 0.1363 - val_categorical_accuracy: 0.9696\n",
      "Epoch 45/50\n",
      "37/36 [==============================] - 7s 198ms/step - loss: 7.7679e-04 - categorical_accuracy: 1.0000 - val_loss: 0.2028 - val_categorical_accuracy: 0.9696\n",
      "Epoch 46/50\n",
      "37/36 [==============================] - 7s 196ms/step - loss: 0.0020 - categorical_accuracy: 0.9992 - val_loss: 0.1708 - val_categorical_accuracy: 0.9666\n",
      "Epoch 47/50\n",
      "37/36 [==============================] - 7s 200ms/step - loss: 7.6721e-04 - categorical_accuracy: 1.0000 - val_loss: 0.1411 - val_categorical_accuracy: 0.9666\n",
      "Epoch 48/50\n",
      "37/36 [==============================] - 7s 197ms/step - loss: 0.0012 - categorical_accuracy: 1.0000 - val_loss: 0.0957 - val_categorical_accuracy: 0.9605\n",
      "Epoch 49/50\n",
      "37/36 [==============================] - 7s 199ms/step - loss: 5.7034e-04 - categorical_accuracy: 1.0000 - val_loss: 0.2263 - val_categorical_accuracy: 0.9574\n",
      "Epoch 50/50\n",
      "37/36 [==============================] - 7s 196ms/step - loss: 8.9896e-04 - categorical_accuracy: 1.0000 - val_loss: 0.0877 - val_categorical_accuracy: 0.9726\n"
     ]
    },
    {
     "data": {
      "text/plain": [
       "<tensorflow.python.keras.callbacks.History at 0x7f2580137c50>"
      ]
     },
     "execution_count": 10,
     "metadata": {},
     "output_type": "execute_result"
    }
   ],
   "source": [
    "model.fit(train_it,\n",
    "          validation_data=valid_it,\n",
    "          steps_per_epoch=train_it.samples/train_it.batch_size,\n",
    "          validation_steps=valid_it.samples/valid_it.batch_size,\n",
    "          epochs=50)"
   ]
  },
  {
   "cell_type": "markdown",
   "metadata": {},
   "source": [
    "## Unfreeze Model for Fine Tuning"
   ]
  },
  {
   "cell_type": "markdown",
   "metadata": {},
   "source": [
    "If you have reached 92% validation accuracy already, this next step is optional. If not, we suggest fine tuning the model with a very low learning rate."
   ]
  },
  {
   "cell_type": "code",
   "execution_count": 13,
   "metadata": {},
   "outputs": [],
   "source": [
    "# Unfreeze the base model\n",
    "base_model.trainable = False\n",
    "\n",
    "# Compile the model with a low learning rate\n",
    "model.compile(optimizer=keras.optimizers.RMSprop(learning_rate = 0.00001),\n",
    "              loss = keras.losses.CategoricalCrossentropy(), \n",
    "              metrics = [keras.metrics.CategoricalAccuracy()])\n",
    "              #loss = FIXME , metrics = FIXME)"
   ]
  },
  {
   "cell_type": "code",
   "execution_count": 17,
   "metadata": {},
   "outputs": [
    {
     "name": "stdout",
     "output_type": "stream",
     "text": [
      "Epoch 1/2\n",
      "37/36 [==============================] - 7s 196ms/step - loss: 2.9659e-04 - categorical_accuracy: 1.0000 - val_loss: 0.1816 - val_categorical_accuracy: 0.9605\n",
      "Epoch 2/2\n",
      "37/36 [==============================] - 7s 196ms/step - loss: 3.3693e-04 - categorical_accuracy: 1.0000 - val_loss: 0.1695 - val_categorical_accuracy: 0.9635\n"
     ]
    },
    {
     "data": {
      "text/plain": [
       "<tensorflow.python.keras.callbacks.History at 0x7f25082079e8>"
      ]
     },
     "execution_count": 17,
     "metadata": {},
     "output_type": "execute_result"
    }
   ],
   "source": [
    "model.fit(train_it,\n",
    "          validation_data=valid_it,\n",
    "          steps_per_epoch=train_it.samples/train_it.batch_size,\n",
    "          validation_steps=valid_it.samples/valid_it.batch_size,\n",
    "          epochs=2)"
   ]
  },
  {
   "cell_type": "markdown",
   "metadata": {},
   "source": [
    "## Evaluate the Model"
   ]
  },
  {
   "cell_type": "markdown",
   "metadata": {},
   "source": [
    "Hopefully, you now have a model that has a validation accuracy of 92% or higher. If not, you may want to go back and either run more epochs of training, or adjust your data augmentation. \n",
    "\n",
    "Once you are satisfied with the validation accuracy, evaluate the model by executing the following cell. The evaluate function will return a tuple, where the first value is your loss, and the second value is your accuracy. To pass, the model will need have an accuracy value of `92% or higher`. "
   ]
  },
  {
   "cell_type": "code",
   "execution_count": 18,
   "metadata": {},
   "outputs": [
    {
     "name": "stdout",
     "output_type": "stream",
     "text": [
      "11/10 [================================] - 1s 128ms/step - loss: 0.1507 - categorical_accuracy: 0.9666\n"
     ]
    },
    {
     "data": {
      "text/plain": [
       "[0.15068534016609192, 0.9665653705596924]"
      ]
     },
     "execution_count": 18,
     "metadata": {},
     "output_type": "execute_result"
    }
   ],
   "source": [
    "model.evaluate(valid_it, steps=valid_it.samples/valid_it.batch_size)"
   ]
  },
  {
   "cell_type": "markdown",
   "metadata": {},
   "source": [
    "## Run the Assessment"
   ]
  },
  {
   "cell_type": "markdown",
   "metadata": {},
   "source": [
    "To assess your model run the following two cells.\n",
    "\n",
    "**NOTE:** `run_assessment` assumes your model is named `model` and your validation data iterator is called `valid_it`. If for any reason you have modified these variable names, please update the names of the arguments passed to `run_assessment`."
   ]
  },
  {
   "cell_type": "code",
   "execution_count": 11,
   "metadata": {},
   "outputs": [],
   "source": [
    "from run_assessment import run_assessment"
   ]
  },
  {
   "cell_type": "code",
   "execution_count": 12,
   "metadata": {},
   "outputs": [
    {
     "name": "stdout",
     "output_type": "stream",
     "text": [
      "Evaluating model 5 times to obtain average accuracy...\n",
      "\n",
      "11/10 [================================] - 1s 133ms/step - loss: 0.1463 - categorical_accuracy: 0.9787\n",
      "11/10 [================================] - 1s 135ms/step - loss: 0.1793 - categorical_accuracy: 0.9757\n",
      "11/10 [================================] - 1s 133ms/step - loss: 0.1521 - categorical_accuracy: 0.9726\n",
      "11/10 [================================] - 1s 135ms/step - loss: 0.2015 - categorical_accuracy: 0.9635\n",
      "11/10 [================================] - 1s 135ms/step - loss: 0.1365 - categorical_accuracy: 0.9787\n",
      "\n",
      "Accuracy required to pass the assessment is 0.92 or greater.\n",
      "Your average accuracy is 0.9739.\n",
      "\n",
      "Congratulations! You passed the assessment!\n",
      "See instructions below to generate a certificate.\n"
     ]
    }
   ],
   "source": [
    "run_assessment(model, valid_it)"
   ]
  },
  {
   "cell_type": "markdown",
   "metadata": {},
   "source": [
    "## Generate a Certificate"
   ]
  },
  {
   "cell_type": "markdown",
   "metadata": {},
   "source": [
    "If you passed the assessment, please return to the course page (shown below) and click the \"ASSESS TASK\" button, which will generate your certificate for the course."
   ]
  },
  {
   "cell_type": "markdown",
   "metadata": {},
   "source": [
    "<img src=\"./images/assess_task.png\" style=\"width: 800px;\">"
   ]
  }
 ],
 "metadata": {
  "kernelspec": {
   "display_name": "Python 3",
   "language": "python",
   "name": "python3"
  },
  "language_info": {
   "codemirror_mode": {
    "name": "ipython",
    "version": 3
   },
   "file_extension": ".py",
   "mimetype": "text/x-python",
   "name": "python",
   "nbconvert_exporter": "python",
   "pygments_lexer": "ipython3",
   "version": "3.6.9"
  }
 },
 "nbformat": 4,
 "nbformat_minor": 4
}
