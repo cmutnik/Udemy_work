{
 "cells": [
  {
   "cell_type": "markdown",
   "metadata": {},
   "source": [
    "# Naive Bayes (the easy way)"
   ]
  },
  {
   "cell_type": "markdown",
   "metadata": {},
   "source": [
    "We'll cheat by using sklearn.naive_bayes to train a spam classifier! Most of the code is just loading our training data into a pandas DataFrame that we can play with:"
   ]
  },
  {
   "cell_type": "code",
   "execution_count": 22,
   "metadata": {},
   "outputs": [],
   "source": [
    "import os\n",
    "import io\n",
    "import numpy\n",
    "from pandas import DataFrame\n",
    "from sklearn.feature_extraction.text import CountVectorizer\n",
    "from sklearn.naive_bayes import MultinomialNB\n",
    "\n",
    "def readFiles(path):\n",
    "    for root, dirnames, filenames in os.walk(path):\n",
    "        for filename in filenames:\n",
    "            path = os.path.join(root, filename)\n",
    "\n",
    "            inBody = False\n",
    "            lines = []\n",
    "            f = io.open(path, 'r', encoding='latin1')\n",
    "            for line in f:\n",
    "                if inBody:\n",
    "                    lines.append(line)\n",
    "                elif line == '\\n':\n",
    "                    inBody = True\n",
    "            f.close()\n",
    "            message = '\\n'.join(lines)\n",
    "            yield path, message\n",
    "\n",
    "\n",
    "def dataFrameFromDirectory(path, classification):\n",
    "    rows = []\n",
    "    index = []\n",
    "    for filename, message in readFiles(path):\n",
    "        rows.append({'message': message, 'class': classification})\n",
    "        index.append(filename)\n",
    "\n",
    "    return DataFrame(rows, index=index)\n",
    "\n",
    "data = DataFrame({'message': [], 'class': []})\n",
    "\n",
    "#data = data.append(dataFrameFromDirectory('../../MLCourse/emails/spam', 'spam'))\n",
    "#data = data.append(dataFrameFromDirectory('../../MLCourse/emails/ham', 'ham'))\n",
    "\n",
    "# assign numeric values, to represent spam and ham\n",
    "#   let spam==0 and ham==1\n",
    "data = data.append(dataFrameFromDirectory('../../MLCourse/emails/spam', '0'))\n",
    "data = data.append(dataFrameFromDirectory('../../MLCourse/emails/ham', '1'))"
   ]
  },
  {
   "cell_type": "markdown",
   "metadata": {},
   "source": [
    "Let's have a look at that DataFrame:"
   ]
  },
  {
   "cell_type": "code",
   "execution_count": 23,
   "metadata": {},
   "outputs": [
    {
     "output_type": "execute_result",
     "data": {
      "text/plain": "                                                                                              message  \\\n../../MLCourse/emails/spam/00249.5f45607c1bffe8...  Dear Homeowner,\\n\\n \\n\\nInterest Rates are at ...   \n../../MLCourse/emails/spam/00373.ebe8670ac56b04...  ATTENTION: This is a MUST for ALL Computer Use...   \n../../MLCourse/emails/spam/00214.1367039e50dc6b...  This is a multi-part message in MIME format.\\n...   \n../../MLCourse/emails/spam/00210.050ffd105bd4e0...  IMPORTANT INFORMATION:\\n\\n\\n\\nThe new domain n...   \n../../MLCourse/emails/spam/00033.9babb58d9298da...  This is the bottom line.  If you can GIVE AWAY...   \n\n                                                   class  \n../../MLCourse/emails/spam/00249.5f45607c1bffe8...     0  \n../../MLCourse/emails/spam/00373.ebe8670ac56b04...     0  \n../../MLCourse/emails/spam/00214.1367039e50dc6b...     0  \n../../MLCourse/emails/spam/00210.050ffd105bd4e0...     0  \n../../MLCourse/emails/spam/00033.9babb58d9298da...     0  ",
      "text/html": "<div>\n<style scoped>\n    .dataframe tbody tr th:only-of-type {\n        vertical-align: middle;\n    }\n\n    .dataframe tbody tr th {\n        vertical-align: top;\n    }\n\n    .dataframe thead th {\n        text-align: right;\n    }\n</style>\n<table border=\"1\" class=\"dataframe\">\n  <thead>\n    <tr style=\"text-align: right;\">\n      <th></th>\n      <th>message</th>\n      <th>class</th>\n    </tr>\n  </thead>\n  <tbody>\n    <tr>\n      <th>../../MLCourse/emails/spam/00249.5f45607c1bffe89f60ba1ec9f878039a</th>\n      <td>Dear Homeowner,\\n\\n \\n\\nInterest Rates are at ...</td>\n      <td>0</td>\n    </tr>\n    <tr>\n      <th>../../MLCourse/emails/spam/00373.ebe8670ac56b04125c25100a36ab0510</th>\n      <td>ATTENTION: This is a MUST for ALL Computer Use...</td>\n      <td>0</td>\n    </tr>\n    <tr>\n      <th>../../MLCourse/emails/spam/00214.1367039e50dc6b7adb0f2aa8aba83216</th>\n      <td>This is a multi-part message in MIME format.\\n...</td>\n      <td>0</td>\n    </tr>\n    <tr>\n      <th>../../MLCourse/emails/spam/00210.050ffd105bd4e006771ee63cabc59978</th>\n      <td>IMPORTANT INFORMATION:\\n\\n\\n\\nThe new domain n...</td>\n      <td>0</td>\n    </tr>\n    <tr>\n      <th>../../MLCourse/emails/spam/00033.9babb58d9298daa2963d4f514193d7d6</th>\n      <td>This is the bottom line.  If you can GIVE AWAY...</td>\n      <td>0</td>\n    </tr>\n  </tbody>\n</table>\n</div>"
     },
     "metadata": {},
     "execution_count": 23
    }
   ],
   "source": [
    "data.head()"
   ]
  },
  {
   "cell_type": "markdown",
   "metadata": {},
   "source": [
    "## Modify Data for Train Test Split\n",
    "\n",
    "Need to test classifier without predetermined `spam` and `ham` labels."
   ]
  },
  {
   "cell_type": "code",
   "execution_count": 24,
   "metadata": {},
   "outputs": [
    {
     "output_type": "execute_result",
     "data": {
      "text/plain": "MultinomialNB(alpha=1.0, class_prior=None, fit_prior=True)"
     },
     "metadata": {},
     "execution_count": 24
    }
   ],
   "source": [
    "from sklearn.model_selection import train_test_split\n",
    "\n",
    "\n",
    "vectorizer = CountVectorizer()\n",
    "counts = vectorizer.fit_transform(data['message'].values)\n",
    "\n",
    "classifier = MultinomialNB()\n",
    "targets = data['class'].values\n",
    "\n",
    "# split data up into training and test sets\n",
    "X_train, X_test, y_train, y_test = train_test_split(counts, targets, test_size=0.33, random_state=42)\n",
    "\n",
    "classifier.fit(X_train, y_train)"
   ]
  },
  {
   "cell_type": "markdown",
   "metadata": {},
   "source": [
    "Let's try it out:"
   ]
  },
  {
   "cell_type": "code",
   "execution_count": 36,
   "metadata": {
    "tags": []
   },
   "outputs": [
    {
     "output_type": "execute_result",
     "data": {
      "text/plain": "['spam', 'ham']"
     },
     "metadata": {},
     "execution_count": 36
    }
   ],
   "source": [
    "# make test data, to test classifier\n",
    "examples = ['Free Viagra now!!!', \"Hi Bob, how about a game of golf tomorrow?\"]\n",
    "\n",
    "# transform test data to form of original data\n",
    "example_counts = vectorizer.transform(examples)\n",
    "\n",
    "# apply classifier to transformed data\n",
    "predictions = classifier.predict(example_counts)\n",
    "\n",
    "#predictions\n",
    "\n",
    "# convert predictions, from numerical values, back to terms 'spam and 'ham'\n",
    "predicted_names = []\n",
    "for val in predictions:\n",
    "    if val == str(0):\n",
    "        predicted_names.append('spam')\n",
    "    elif val == str(1):\n",
    "        predicted_names.append('ham')\n",
    "\n",
    "# check results\n",
    "predicted_names"
   ]
  },
  {
   "cell_type": "markdown",
   "metadata": {},
   "source": [
    "## Now Check Classifier on Test Data"
   ]
  },
  {
   "cell_type": "markdown",
   "metadata": {},
   "source": [
    "See if our classifier properly categorizes the test data we left out of training."
   ]
  },
  {
   "cell_type": "code",
   "execution_count": 56,
   "metadata": {
    "tags": []
   },
   "outputs": [
    {
     "output_type": "stream",
     "name": "stdout",
     "text": "number of test datum catrgorized correctly:  949\nnumber of test datum catrgorized incorrectly:  41\nof all  990  test data point,  949  were categorized correctly; leading to a ratio of:  0.9585858585858585\n"
    }
   ],
   "source": [
    "#X_test, y_test \n",
    "\n",
    "# transform test data to form of original data\n",
    "#example_counts = vectorizer.transform(examples)\n",
    "\n",
    "# apply classifier to transformed data\n",
    "predictions = classifier.predict(X_test)\n",
    "\n",
    "#predictions\n",
    "\n",
    "# initialize counters, to see how many test data points are categorized wrong or correctly\n",
    "N_correct, N_wrong = 0, 0\n",
    "\n",
    "if len(y_test) != len(predictions):\n",
    "    print('error: array lengths do not match')\n",
    "else:\n",
    "    for i in range(len(y_test)):\n",
    "        if y_test[i] == predictions[i]:\n",
    "            N_correct += 1\n",
    "        else:\n",
    "            N_wrong += 1\n",
    "\n",
    "print('number of test datum catrgorized correctly: ', N_correct)\n",
    "print('number of test datum catrgorized incorrectly: ', N_wrong)\n",
    "print('of all ', (N_wrong+N_correct), ' test data point, ', N_correct, ' were categorized correctly; leading to a ratio of: ', (N_correct/(N_wrong+N_correct)))"
   ]
  },
  {
   "cell_type": "code",
   "execution_count": null,
   "metadata": {},
   "outputs": [],
   "source": []
  },
  {
   "cell_type": "code",
   "execution_count": null,
   "metadata": {},
   "outputs": [],
   "source": []
  }
 ],
 "metadata": {
  "kernelspec": {
   "display_name": "Python 3",
   "language": "python",
   "name": "python3"
  },
  "language_info": {
   "codemirror_mode": {
    "name": "ipython",
    "version": 3
   },
   "file_extension": ".py",
   "mimetype": "text/x-python",
   "name": "python",
   "nbconvert_exporter": "python",
   "pygments_lexer": "ipython3",
   "version": "3.7.6-final"
  }
 },
 "nbformat": 4,
 "nbformat_minor": 1
}